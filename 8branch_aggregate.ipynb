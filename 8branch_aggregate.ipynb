{
 "cells": [
  {
   "cell_type": "markdown",
   "metadata": {},
   "source": [
    "# Accelerated Calderón preconditioning of the PMCHWT equation"
   ]
  },
  {
   "cell_type": "markdown",
   "metadata": {},
   "source": [
    "This notebook accompanies the paper 'Accelerated Calderón preconditioning for Maxwell transmission problems' by Kleanthous et al. The example code below replicates results from Section 5, Figure 10. To obtain Figures 11-12 change the frequency to 183GHz and 325GHz respectively. "
   ]
  },
  {
   "cell_type": "markdown",
   "metadata": {},
   "source": [
    "We first import all necessary packages. To be able to use the cutoff parameter, you need Bempp version 3.3.5 (Docker image) or 3.3.4 (source code) "
   ]
  },
  {
   "cell_type": "code",
   "execution_count": 1,
   "metadata": {},
   "outputs": [
    {
     "name": "stdout",
     "output_type": "stream",
     "text": [
      "3.3.4\n"
     ]
    }
   ],
   "source": [
    "import bempp.api\n",
    "print(bempp.api.__version__)\n",
    "import numpy as np\n",
    "import time\n",
    "from login import gmres \n",
    "from operators import PMCHWT_operator, get_memory\n",
    "\n",
    "bempp.api.set_ipython_notebook_viewer()"
   ]
  },
  {
   "cell_type": "markdown",
   "metadata": {},
   "source": [
    "Next we set up the parameters for the operator and preconditioner when a bi-parametric implementation is used.\n"
   ]
  },
  {
   "cell_type": "code",
   "execution_count": 2,
   "metadata": {
    "collapsed": true
   },
   "outputs": [],
   "source": [
    "from bempp.core.common.global_parameters import global_parameters # Interface to define global_parameters for operators\n",
    "\n",
    "quad_P= [1,1,1,1]\n",
    "quad_A= [4,3,2,6]\n",
    "\n",
    "hmat_tol_P = 0.1\n",
    "hma_tol_A = 0.001\n",
    "\n",
    "near_field_cutoff_P = 0\n",
    "\n",
    "# Parameters for Operator A\n",
    "parameters_A = global_parameters()\n",
    "parameters_A.assembly.boundary_operator_assembly_type='hmat'\n",
    "parameters_A.hmat.eps = hma_tol_A\n",
    "parameters_A.quadrature.double_singular = quad_A[3]\n",
    "parameters_A.quadrature.far.double_order = quad_A[2]\n",
    "parameters_A.quadrature.medium.double_order = quad_A[1]\n",
    "parameters_A.quadrature.near.double_order = quad_A[0]\n",
    "\n",
    "# Parameters for Preconditioner P\n",
    "parameters_P = global_parameters()\n",
    "parameters_P.assembly.boundary_operator_assembly_type='hmat'\n",
    "parameters_P.hmat.eps = hmat_tol_P\n",
    "parameters_P.quadrature.double_singular = quad_P[3]\n",
    "parameters_P.quadrature.far.double_order = quad_P[2]\n",
    "parameters_P.quadrature.medium.double_order = quad_P[1]\n",
    "parameters_P.quadrature.near.double_order = quad_P[0]\n",
    "parameters_P.hmat.cutoff = near_field_cutoff_P"
   ]
  },
  {
   "cell_type": "markdown",
   "metadata": {},
   "source": [
    "Set up the frequency, grid and properties of the scatterer"
   ]
  },
  {
   "cell_type": "code",
   "execution_count": 3,
   "metadata": {},
   "outputs": [
    {
     "name": "stdout",
     "output_type": "stream",
     "text": [
      "wavelength: 6.0\n",
      "mesh size: 0.6000000000000001\n",
      "The exterior wavenumber is: 1.0471975511965976\n",
      "The interior wavenumbers are: (1.8591945323944394+0.0006911503837897544j)\n",
      "Total elements: 2016\n"
     ]
    }
   ],
   "source": [
    "frequency = 50E9\n",
    "wavelength = (3E8/frequency)*10**3 #scale to mm\n",
    "print('wavelength: {0}'.format(wavelength))\n",
    "k_ext = 2 *np.pi/wavelength\n",
    "print('mesh size: {0}'.format(2*np.pi/(10*k_ext)))\n",
    "\n",
    "if frequency == 50E9:\n",
    "    r = 1.7754+0.00066j\n",
    "elif frequency == 183E9:\n",
    "    r = 1.7754+0.00243j\n",
    "elif frequency == 325E9:\n",
    "    r = 1.7754+0.0044j\n",
    "elif frequency == 664E9:\n",
    "    r=1.7754+0.00972j\n",
    "    \n",
    "number_of_scatterers = 8\n",
    "ref_index = [r] * number_of_scatterers\n",
    "k_int= [k_ext * i for i in ref_index]\n",
    "\n",
    "print(\"The exterior wavenumber is: {0}\".format(k_ext))\n",
    "print(\"The interior wavenumbers are: {0}\".format(k_int[0]))\n",
    "\n",
    "mu_int = number_of_scatterers * [1.0]\n",
    "mu_ext = 1.0\n",
    "\n",
    "grids = []\n",
    "for i in range(number_of_scatterers):\n",
    "    new_grid = bempp.api.import_grid('8aggregate_' + str(int(frequency*1E-9)) +'GHz/1cm/hex' + str(i) + '.msh')\n",
    "    grids.append(new_grid)\n",
    "    \n",
    "sum_elements = 0\n",
    "for i in range(number_of_scatterers):\n",
    "    el = grids[0].leaf_view.elements\n",
    "    sum_elements += el.shape[1]\n",
    "print('Total elements: {0}'.format(sum_elements))"
   ]
  },
  {
   "cell_type": "markdown",
   "metadata": {},
   "source": [
    "If you want to test for the 3 cubes of Section 4, comment out the above and use the below"
   ]
  },
  {
   "cell_type": "code",
   "execution_count": 4,
   "metadata": {},
   "outputs": [],
   "source": [
    "# wavelength = 0.55 \n",
    "# print('wavelength: {0}'.format(wavelength))\n",
    "# k_ext = 2 *np.pi/wavelength\n",
    "# h=2*np.pi/(10*k_ext)\n",
    "# print('mesh size: {0}'.format(h))\n",
    "\n",
    "# centers = [(-1,0,0), (0,0,0), (1,0,0)]\n",
    "# radius = .4\n",
    "# number_of_scatterers = len(centers)\n",
    "\n",
    "# r = 1.311 + 2.289E-9j\n",
    "\n",
    "# ref_index = [r] * number_of_scatterers\n",
    "# k_int= [k_ext * i for i in ref_index]\n",
    "\n",
    "# print(\"The exterior wavenumber is: {0}\".format(k_ext))\n",
    "# print(\"The interior wavenumbers are: {0}\".format(k_int[0]))\n",
    "\n",
    "# mu_int = number_of_scatterers * [1.0]\n",
    "# mu_ext = 1.0\n",
    "\n",
    "# grids = [bempp.api.shapes.cube(length = radius, origin=c, h=h) for c in centers]\n",
    "    \n",
    "# sum_elements = 0\n",
    "# for i in range(number_of_scatterers):\n",
    "#     el = grids[0].leaf_view.elements\n",
    "#     sum_elements += el.shape[1]\n",
    "# print('Total elements: {0}'.format(sum_elements))"
   ]
  },
  {
   "cell_type": "markdown",
   "metadata": {},
   "source": [
    "Set up the incoming plane wave"
   ]
  },
  {
   "cell_type": "code",
   "execution_count": 5,
   "metadata": {
    "collapsed": true
   },
   "outputs": [],
   "source": [
    "theta = np.pi / 4 # Incident wave travelling at a 45 degree angle\n",
    "direction = np.array([np.cos(theta), 0, np.sin(theta)])\n",
    "polarization = np.array([0, 1.0, 0])\n",
    "\n",
    "def plane_wave(point):\n",
    "    return polarization * np.exp(1j * k_ext * np.dot(point, direction))\n",
    "\n",
    "def dirichlet_trace_fun(point, n, domain_index, result):\n",
    "    result[:] =  np.cross(plane_wave(point), n)\n",
    "\n",
    "def plane_wave_curl(point):\n",
    "    return np.cross(direction, polarization) * 1j * k_ext * np.exp(1j * k_ext * np.dot(point, direction))\n",
    "\n",
    "def neumann_trace_fun(point, n, domain_index, result):\n",
    "    result[:] =  1./ (1j * k_ext) * np.cross(plane_wave_curl(point), n)"
   ]
  },
  {
   "cell_type": "code",
   "execution_count": 6,
   "metadata": {},
   "outputs": [
    {
     "name": "stdout",
     "output_type": "stream",
     "text": [
      "2556 NDOF\n"
     ]
    }
   ],
   "source": [
    "# spaces\n",
    "bc_space = [bempp.api.function_space(grid, \"BC\", 0) for grid in grids]\n",
    "rbc_space = [bempp.api.function_space(grid, \"RBC\", 0) for grid in grids]\n",
    "rwg_space = [bempp.api.function_space(grid, \"RWG\", 0) for grid in grids]\n",
    "snc_space = [bempp.api.function_space(grid, \"SNC\", 0) for grid in grids]\n",
    "\n",
    "b_rwg_space = [bempp.api.function_space(grid, \"B-RWG\", 0) for grid in grids]\n",
    "b_snc_space = [bempp.api.function_space(grid, \"B-SNC\", 0) for grid in grids]\n",
    "\n",
    "N = sum([space.global_dof_count for space in rwg_space])\n",
    "print (N ,'NDOF')"
   ]
  },
  {
   "cell_type": "markdown",
   "metadata": {},
   "source": [
    "Set up the operators. The following sets up the PMCHWT operator $\\mathcal{A}$ with parameters_A, and the preconditioners $\\mathcal{D}$, $\\mathcal{D}^i$, $\\mathcal{S}^i$ with parameters_A first and with parameters_P (bi-parametric implementation) after. This is the example presented in Figure 10. You can also set up $\\mathcal{D}^e$ and $\\mathcal{S}^e$ by setting type_of_preconditioner = 'exterior' and 'exterior_electric' respectively. "
   ]
  },
  {
   "cell_type": "code",
   "execution_count": 7,
   "metadata": {
    "collapsed": true,
    "scrolled": true
   },
   "outputs": [],
   "source": [
    "[PMCHWT_A, filter_operators] = PMCHWT_operator(grids, k_ext, k_int, mu_ext, mu_int, parameters = parameters_A)\n",
    "\n",
    "PMCHWT_D = PMCHWT_operator(grids, k_ext, k_int, mu_ext, mu_int, preconditioner = True, parameters = parameters_A,\n",
    "                                 type_of_preconditioner = 'diagonal')\n",
    "PMCHWT_Di = PMCHWT_operator(grids, k_ext, k_int, mu_ext, mu_int, preconditioner=True, parameters = parameters_A,\n",
    "                                      type_of_preconditioner='interior')\n",
    "PMCHWT_Si = PMCHWT_operator(grids, k_ext, k_int, mu_ext, mu_int, preconditioner=True, parameters=parameters_A,\n",
    "                                                   type_of_preconditioner = 'interior_electric')\n",
    "\n",
    "PMCHWT_D_bp = PMCHWT_operator(grids, k_ext, k_int, mu_ext, mu_int, preconditioner = True, parameters = parameters_P,\n",
    "                                    type_of_preconditioner = 'diagonal')\n",
    "PMCHWT_Di_bp = PMCHWT_operator(grids, k_ext, k_int, mu_ext, mu_int, preconditioner = True, parameters = parameters_P,\n",
    "                                         type_of_preconditioner='interior')\n",
    "PMCHWT_Si_bp = PMCHWT_operator(grids, k_ext, k_int, mu_ext, mu_int, preconditioner = True, \n",
    "                                                  parameters = parameters_P, type_of_preconditioner='interior_electric')"
   ]
  },
  {
   "cell_type": "markdown",
   "metadata": {},
   "source": [
    "Create inverse mass-matrices"
   ]
  },
  {
   "cell_type": "code",
   "execution_count": 8,
   "metadata": {
    "scrolled": true
   },
   "outputs": [
    {
     "name": "stdout",
     "output_type": "stream",
     "text": [
      "creating mass-matrices\n",
      "assembly time for mass_matrix_BC_SNC: 0.06866073608398438 seconds\n",
      "assembly time for mass_matrix_bc: 0.05539822578430176 seconds\n"
     ]
    }
   ],
   "source": [
    "print('creating mass-matrices')\n",
    "# BC discretisation\n",
    "mass_matrix_BC_SNC = np.empty((2 * number_of_scatterers, 2 * number_of_scatterers), dtype='O')\n",
    "t0 = time.time()\n",
    "for i in range(number_of_scatterers):\n",
    "    for j in range(number_of_scatterers):\n",
    "        if i==j:\n",
    "            id_BC_SNC = bempp.api.operators.boundary.sparse.identity(bc_space[i], bc_space[i], b_snc_space[i])\n",
    "            inv_identity_BC_SNC = bempp.api.assembly.InverseSparseDiscreteBoundaryOperator(id_BC_SNC.weak_form())\n",
    "            mass_matrix_BC_SNC[2*i, 2*j] = inv_identity_BC_SNC\n",
    "            mass_matrix_BC_SNC[2*i + 1, 2*j + 1] = inv_identity_BC_SNC\n",
    "mass_matrix_BC_SNC = bempp.api.assembly.BlockedDiscreteOperator(mass_matrix_BC_SNC)\n",
    "ta_mass_matrix_BC_SNC = time.time() - t0\n",
    "print('assembly time for mass_matrix_BC_SNC: {0} seconds'.format(ta_mass_matrix_BC_SNC))\n",
    "\n",
    "mass_matrix_BRWG_RBC = np.empty((2*number_of_scatterers, 2*number_of_scatterers), dtype = 'O')\n",
    "t0 = time.time()\n",
    "for i in range(number_of_scatterers):\n",
    "    for j in range(number_of_scatterers):\n",
    "        if i==j:\n",
    "            id_BRWG_RBC = bempp.api.operators.boundary.sparse.identity(b_rwg_space[i], b_rwg_space[i], rbc_space[i])\n",
    "            inv_identity_BRWG_RBC = bempp.api.assembly.InverseSparseDiscreteBoundaryOperator(id_BRWG_RBC.weak_form())\n",
    "            mass_matrix_BRWG_RBC[2*i, 2*j] = inv_identity_BRWG_RBC\n",
    "            mass_matrix_BRWG_RBC[2*i + 1, 2*j+1] = inv_identity_BRWG_RBC\n",
    "mass_matrix_BRWG_RBC = bempp.api.assembly.BlockedDiscreteOperator(mass_matrix_BRWG_RBC)\n",
    "ta_mass_matrix_BRWG_RBC = time.time() - t0\n",
    "print('assembly time for mass_matrix_bc: {0} seconds'.format(ta_mass_matrix_BRWG_RBC))"
   ]
  },
  {
   "cell_type": "markdown",
   "metadata": {},
   "source": [
    "Assemble the operator and preconditioners"
   ]
  },
  {
   "cell_type": "code",
   "execution_count": 9,
   "metadata": {
    "scrolled": false
   },
   "outputs": [
    {
     "name": "stdout",
     "output_type": "stream",
     "text": [
      "assembly of PMCHWT operator A\n",
      "assembly time of A: 0.14966416756312054 mins\n",
      "mem(A): 0.139899 Gb \n",
      "\n",
      "assembly of preconditioner D and operator DA\n",
      "assembly time of DA: 0.643035622437795 mins\n",
      "mem(D): 1.2422268125 Gb \n",
      "\n",
      "assembly of preconditioner Di and operator DiA\n",
      "assembly time of DiA: 0.40134403308232625 mins\n",
      "mem(Di): 0.62554640625 Gb \n",
      "\n",
      "assembly of preconditioner Si and operator SiA\n",
      "assembly time of SiA: 0.28264798323313395 mins\n",
      "mem(Si): 0.32130820312499997 Gb \n",
      "\n",
      "assembly of preconditioner D_bp and operator DA_bp\n",
      "assembly time of DA_bp: 0.24735668500264485 mins\n",
      "mem(D_bp): 0.3047648125 Gb \n",
      "\n",
      "assembly of preconditioner Di_bp and operator DiA_bp\n",
      "assembly time of DiA_bp: 0.19672290086746216 mins\n",
      "mem(Di_bp): 0.15238240625 Gb \n",
      "\n",
      "assembly of preconditioner Si_bp and operator SiA_bp\n",
      "assembly time of SiA_bp: 0.17528144121170045 mins\n",
      "mem(Si_bp): 0.076191203125 Gb \n",
      "\n"
     ]
    }
   ],
   "source": [
    "print('assembly of PMCHWT operator A')\n",
    "\n",
    "t0 = time.time()\n",
    "PMCHWT_A_wf = PMCHWT_A.weak_form()\n",
    "PMCHWT_A_sf = mass_matrix_BC_SNC * PMCHWT_A_wf\n",
    "ta_PMCHWT_A = time.time() - t0 + ta_mass_matrix_BC_SNC\n",
    "mem_A = get_memory(number_of_scatterers, PMCHWT_A_wf)\n",
    "print('assembly time of A: {0} mins'.format(ta_PMCHWT_A/60))\n",
    "print('mem(A): {0} Gb \\n'.format(mem_A * 1E-6))\n",
    "\n",
    "print('assembly of preconditioner D and operator DA')\n",
    "t0 = time.time()\n",
    "PMCHWT_D_wf = PMCHWT_D.weak_form()\n",
    "PMCHWT_D_sf = mass_matrix_BRWG_RBC * PMCHWT_D_wf\n",
    "ta_D = time.time() - t0 + ta_mass_matrix_BRWG_RBC\n",
    "op_DA_sf = PMCHWT_D_sf * PMCHWT_A_sf\n",
    "ta_DA = ta_D + ta_PMCHWT_A \n",
    "mem_D = get_memory(number_of_scatterers, PMCHWT_D_wf)\n",
    "print('assembly time of DA: {0} mins'.format(ta_DA/60))\n",
    "print('mem(D): {0} Gb \\n'.format(mem_D * 1E-6))\n",
    "\n",
    "print('assembly of preconditioner Di and operator DiA')\n",
    "t0 = time.time()\n",
    "PMCHWT_Di_wf = PMCHWT_Di.weak_form()\n",
    "PMCHWT_Di_sf = mass_matrix_BRWG_RBC * PMCHWT_Di_wf\n",
    "ta_Di = time.time() - t0 + ta_mass_matrix_BRWG_RBC\n",
    "op_DiA_sf =  PMCHWT_Di_sf * PMCHWT_A_sf\n",
    "ta_DiA = ta_Di + ta_PMCHWT_A \n",
    "mem_Di = get_memory(number_of_scatterers, PMCHWT_Di_wf)\n",
    "print('assembly time of DiA: {0} mins'.format(ta_DiA/60))\n",
    "print('mem(Di): {0} Gb \\n'.format(mem_Di * 1E-6))\n",
    "\n",
    "print('assembly of preconditioner Si and operator SiA')\n",
    "t0 = time.time()\n",
    "PMCHWT_Si_wf = PMCHWT_Si.weak_form()\n",
    "PMCHWT_Si_sf = mass_matrix_BRWG_RBC * PMCHWT_Si_wf\n",
    "ta_Si = time.time() - t0 + ta_mass_matrix_BRWG_RBC\n",
    "op_SiA_sf =  PMCHWT_Si_sf * PMCHWT_A_sf\n",
    "ta_SiA = ta_Si + ta_PMCHWT_A \n",
    "mem_Si = get_memory(number_of_scatterers, PMCHWT_Si_wf)\n",
    "print('assembly time of SiA: {0} mins'.format(ta_SiA/60))\n",
    "print('mem(Si): {0} Gb \\n'.format(mem_Si * 1E-6))\n",
    "\n",
    "print('assembly of preconditioner D_bp and operator DA_bp')\n",
    "t0 = time.time()\n",
    "PMCHWT_D_bp_wf = PMCHWT_D_bp.weak_form()\n",
    "PMCHWT_D_bp_sf = mass_matrix_BRWG_RBC * PMCHWT_D_bp_wf\n",
    "ta_D_bp = time.time() - t0 + ta_mass_matrix_BRWG_RBC\n",
    "op_DA_bp_sf = PMCHWT_D_bp_sf * PMCHWT_A_sf\n",
    "ta_DA_bp = ta_D_bp + ta_PMCHWT_A \n",
    "mem_D_bp = get_memory(number_of_scatterers, PMCHWT_D_bp_wf)\n",
    "print('assembly time of DA_bp: {0} mins'.format(ta_DA_bp/60))\n",
    "print('mem(D_bp): {0} Gb \\n'.format(mem_D_bp * 1E-6))\n",
    "\n",
    "print('assembly of preconditioner Di_bp and operator DiA_bp')\n",
    "t0 = time.time()\n",
    "PMCHWT_Di_bp_wf = PMCHWT_Di_bp.weak_form()\n",
    "PMCHWT_Di_bp_sf = mass_matrix_BRWG_RBC * PMCHWT_Di_bp_wf\n",
    "ta_Di_bp = time.time() - t0 + ta_mass_matrix_BRWG_RBC\n",
    "op_DiA_bp_sf =  PMCHWT_Di_bp_sf * PMCHWT_A_sf\n",
    "ta_DiA_bp = ta_Di_bp + ta_PMCHWT_A \n",
    "mem_Di_bp = get_memory(number_of_scatterers, PMCHWT_Di_bp_wf)\n",
    "print('assembly time of DiA_bp: {0} mins'.format(ta_DiA_bp/60))\n",
    "print('mem(Di_bp): {0} Gb \\n'.format(mem_Di_bp * 1E-6))\n",
    "\n",
    "print('assembly of preconditioner Si_bp and operator SiA_bp')\n",
    "t0 = time.time()\n",
    "PMCHWT_Si_bp_wf = PMCHWT_Si_bp.weak_form()\n",
    "PMCHWT_Si_bp_sf = mass_matrix_BRWG_RBC * PMCHWT_Si_bp_wf\n",
    "ta_Si_bp = time.time() - t0 + ta_mass_matrix_BRWG_RBC\n",
    "op_SiA_bp_sf =  PMCHWT_Si_bp_sf * PMCHWT_A_sf\n",
    "ta_SiA_bp = ta_Si_bp + ta_PMCHWT_A \n",
    "mem_Si_bp = get_memory(number_of_scatterers, PMCHWT_Si_bp_wf)\n",
    "print('assembly time of SiA_bp: {0} mins'.format(ta_SiA_bp/60))\n",
    "print('mem(Si_bp): {0} Gb \\n'.format(mem_Si_bp * 1E-6))"
   ]
  },
  {
   "cell_type": "markdown",
   "metadata": {},
   "source": [
    "Assembling the RHS"
   ]
  },
  {
   "cell_type": "code",
   "execution_count": 10,
   "metadata": {
    "collapsed": true,
    "scrolled": true
   },
   "outputs": [],
   "source": [
    "# Assembly of RHS operators\n",
    "# Discretize the incident field\n",
    "incident_field = number_of_scatterers * [None]\n",
    "for i in range(number_of_scatterers):\n",
    "    dirichlet_trace = bempp.api.GridFunction(rwg_space[i], fun=dirichlet_trace_fun)\n",
    "    neumann_trace = (k_ext/mu_ext) * bempp.api.GridFunction(rwg_space[i], fun = neumann_trace_fun)\n",
    "    incident_field[i] = dirichlet_trace.coefficients.tolist() +  neumann_trace.coefficients.tolist()\n",
    "\n",
    "rhs_wf = []\n",
    "for i in range(number_of_scatterers):\n",
    "    rhs_wf.append(filter_operators[i].weak_form() * incident_field[i])\n",
    "rhs_wf = [y for x in rhs_wf for y in x]\n",
    "\n",
    "rhs_DA = op_DA_sf * mass_matrix_BC_SNC * rhs_wf\n",
    "rhs_DiA = op_DiA_sf * mass_matrix_BC_SNC * rhs_wf\n",
    "rhs_SiA = op_SiA_sf * mass_matrix_BC_SNC * rhs_wf\n",
    "rhs_DA_bp = op_DA_bp_sf * mass_matrix_BC_SNC * rhs_wf\n",
    "rhs_DiA_bp = op_DiA_bp_sf * mass_matrix_BC_SNC * rhs_wf\n",
    "rhs_SiA_bp = op_SiA_bp_sf * mass_matrix_BC_SNC * rhs_wf"
   ]
  },
  {
   "cell_type": "markdown",
   "metadata": {},
   "source": [
    "Sovling the linear systems"
   ]
  },
  {
   "cell_type": "code",
   "execution_count": 11,
   "metadata": {},
   "outputs": [
    {
     "name": "stdout",
     "output_type": "stream",
     "text": [
      "solving DA\n",
      "number of iterations: 16\n",
      "GMRES times: 0.09820748170216878 mins \n",
      "\n",
      "solving DiA\n",
      "number of iterations: 28\n",
      "GMRES times: 0.10906987587610881 mins \n",
      "\n",
      "solving SiA\n",
      "number of iterations: 89\n",
      "GMRES times: 0.25891900062561035 mins \n",
      "\n",
      "solving DA_bp\n",
      "number of iterations: 89\n",
      "GMRES times: 0.48388458887736 mins \n",
      "\n",
      "solving DiA_bp\n",
      "number of iterations: 46\n",
      "GMRES times: 0.1641128698984782 mins \n",
      "\n",
      "solving SiA_bp\n",
      "number of iterations: 61\n",
      "GMRES times: 0.16633477210998535 mins \n",
      "\n"
     ]
    }
   ],
   "source": [
    "tolerance = 1e-5\n",
    "restart = 200\n",
    "maxiter = 400\n",
    "\n",
    "print('solving DA')\n",
    "t0 = time.time()\n",
    "sol_DA, info_DA, res_DA = gmres(op_DA_sf, rhs_DA, tol = tolerance, restart = restart, return_residuals=True, maxiter=maxiter)\n",
    "ts_DA = time.time() - t0\n",
    "print('number of iterations: {0}'.format(len(res_DA)))\n",
    "print('GMRES times: {0} mins \\n'.format(ts_DA/60))\n",
    "\n",
    "print('solving DiA')\n",
    "t0 = time.time()\n",
    "sol_DiA, info_DiA, res_DiA = gmres(op_DiA_sf, rhs_DiA, tol = tolerance, restart = restart, return_residuals=True, \n",
    "                                   maxiter=maxiter)\n",
    "ts_DiA = time.time() - t0\n",
    "print('number of iterations: {0}'.format(len(res_DiA)))\n",
    "print('GMRES times: {0} mins \\n'.format(ts_DiA/60))\n",
    "\n",
    "print('solving SiA')\n",
    "t0 = time.time()\n",
    "sol_SiA, info_SiA, res_SiA = gmres(op_SiA_sf, rhs_SiA, tol = tolerance, restart = restart, return_residuals=True, \n",
    "                                   maxiter=maxiter)\n",
    "ts_SiA = time.time() - t0\n",
    "print('number of iterations: {0}'.format(len(res_SiA)))\n",
    "print('GMRES times: {0} mins \\n'.format(ts_SiA/60))\n",
    "\n",
    "print('solving DA_bp')\n",
    "t0 = time.time()\n",
    "sol_DA_bp, info_DA_bp, res_DA_bp = gmres(op_DA_bp_sf, rhs_DA_bp, tol = tolerance, restart = restart, return_residuals=True, \n",
    "                                         maxiter=maxiter)\n",
    "ts_DA_bp = time.time() - t0\n",
    "print('number of iterations: {0}'.format(len(res_DA_bp)))\n",
    "print('GMRES times: {0} mins \\n'.format(ts_DA_bp/60))\n",
    "\n",
    "print('solving DiA_bp')\n",
    "t0 = time.time()\n",
    "sol_DiA_bp, info_DiA_bp, res_DiA_bp = gmres(op_DiA_bp_sf, rhs_DiA_bp, tol = tolerance, restart = restart, return_residuals=True,\n",
    "                                            maxiter=maxiter)\n",
    "ts_DiA_bp = time.time() - t0\n",
    "print('number of iterations: {0}'.format(len(res_DiA_bp)))\n",
    "print('GMRES times: {0} mins \\n'.format(ts_DiA_bp/60))\n",
    "\n",
    "print('solving SiA_bp')\n",
    "t0 = time.time()\n",
    "sol_SiA_bp, info_SiA_bp, res_SiA_bp = gmres(op_SiA_bp_sf, rhs_SiA_bp, tol = tolerance, restart = restart, return_residuals=True,\n",
    "                                            maxiter=maxiter)\n",
    "ts_SiA_bp = time.time() - t0\n",
    "print('number of iterations: {0}'.format(len(res_SiA_bp)))\n",
    "print('GMRES times: {0} mins \\n'.format(ts_SiA_bp/60))"
   ]
  },
  {
   "cell_type": "markdown",
   "metadata": {},
   "source": [
    "# Comparing results"
   ]
  },
  {
   "cell_type": "code",
   "execution_count": 12,
   "metadata": {},
   "outputs": [
    {
     "data": {
      "image/png": "[encoded data removed]",
      "text/plain": [
       "<Figure size 1440x432 with 2 Axes>"
      ]
     },
     "metadata": {},
     "output_type": "display_data"
    }
   ],
   "source": [
    "%matplotlib inline\n",
    "import matplotlib.pyplot as plt\n",
    "plt.rcParams.update({'font.size': 24})\n",
    "\n",
    "xtickslist = list([r'$\\mathbf{D}$', r'$\\mathbf{D}^i$', r'$\\mathbf{S}^i$', \n",
    "              r'$\\mathbf{D}_{bp}$', r'$\\mathbf{D}^i_{bp}$', r'$\\mathbf{S}^i_{bp}$'])\n",
    "\n",
    "x = [0,1,2,3,4,5]\n",
    "xx = [6]\n",
    "ta_A = [ta_PMCHWT_A/(ts_DA + ta_DA)]*6\n",
    "ta_P =  [ta_D/(ts_DA + ta_DA), ta_Di/(ts_DA + ta_DA), \n",
    "       ta_Si/(ts_DA + ta_DA), ta_D_bp/(ts_DA + ta_DA), \n",
    "       ta_Di_bp/(ts_DA + ta_DA), ta_Si_bp/(ts_DA + ta_DA)]\n",
    "ts = [ts_DA/(ts_DA + ta_DA), ts_DiA/(ts_DA + ta_DA), \n",
    "      ts_SiA/(ts_DA + ta_DA), ts_DA_bp/(ts_DA + ta_DA), \n",
    "      ts_DiA_bp/(ts_DA + ta_DA), ts_SiA_bp/(ts_DA + ta_DA)]\n",
    "mem =  [mem_D/mem_D, mem_Di/mem_D, mem_Si/mem_D, mem_D_bp/mem_D, mem_Di_bp/mem_D, mem_Si_bp/mem_D]\n",
    "\n",
    "fig, axs = plt.subplots(1,2,figsize = (20,6))\n",
    "plt.setp(axs, xticks=x, xticklabels=xtickslist)\n",
    "\n",
    "ta_A_bar = axs[0].bar(x, ta_A, label = r'assembly $\\mathbf{A}$', color = 'darkmagenta')\n",
    "ta_P_bar = axs[0].bar(x, ta_P, bottom = ta_A, label = r'assembly $\\mathbf{P}$', color = 'mediumpurple')\n",
    "ts_bar = axs[0].bar(x, ts, bottom = np.array(ta_A) + np.array(ta_P), label = 'solve', color = 'plum')\n",
    "axs[0].legend(fontsize = 18)\n",
    "axs[0].set_title('timings', fontsize = 18)\n",
    "axs[0].set_ylim([0,1.1])\n",
    "\n",
    "mem_bar2 = axs[1].bar(xx, [mem_A/mem_D], color = 'darkmagenta', label = r'mem($\\mathbf{A}$)')\n",
    "mem_bar = axs[1].bar(x, mem, color = 'mediumpurple', label = r'mem($\\mathbf{P}$)')\n",
    "axs[1].legend(fontsize = 18)\n",
    "axs[1].set_title('memory', fontsize = 20)\n",
    "axs[1].set_ylim([0,1.2])\n",
    "axs[1].set_yticks([])\n",
    "\n",
    "for rect in mem_bar:\n",
    "    height = rect.get_height()\n",
    "    axs[1].text(rect.get_x() + rect.get_width()/2.0, height, \"{:.0%}\".format(height), ha='center', va='bottom')\n",
    "    \n",
    "for rect in mem_bar2:\n",
    "    height = rect.get_height()\n",
    "    axs[1].text(rect.get_x() + rect.get_width()/2.0, height, \"{:.0%}\".format(height), ha='center', va='bottom')\n"
   ]
  },
  {
   "cell_type": "code",
   "execution_count": null,
   "metadata": {
    "collapsed": true
   },
   "outputs": [],
   "source": []
  }
 ],
 "metadata": {
  "kernelspec": {
   "display_name": "Python 3",
   "language": "python",
   "name": "python3"
  },
  "language_info": {
   "codemirror_mode": {
    "name": "ipython",
    "version": 3
   },
   "file_extension": ".py",
   "mimetype": "text/x-python",
   "name": "python",
   "nbconvert_exporter": "python",
   "pygments_lexer": "ipython3",
   "version": "3.6.10"
  }
 },
 "nbformat": 4,
 "nbformat_minor": 2
}
